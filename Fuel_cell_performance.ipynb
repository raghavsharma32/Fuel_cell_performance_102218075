{
  "nbformat": 4,
  "nbformat_minor": 0,
  "metadata": {
    "colab": {
      "provenance": [],
      "gpuType": "V28"
    },
    "kernelspec": {
      "name": "python3",
      "display_name": "Python 3"
    },
    "language_info": {
      "name": "python"
    },
    "accelerator": "TPU"
  },
  "cells": [
    {
      "cell_type": "code",
      "execution_count": 22,
      "metadata": {
        "colab": {
          "base_uri": "https://localhost:8080/"
        },
        "id": "g1tF0Zt1TaYA",
        "outputId": "b980099f-997a-494d-94a1-b618d824d9c6"
      },
      "outputs": [
        {
          "output_type": "stream",
          "name": "stdout",
          "text": [
            "Requirement already satisfied: scikit-learn in /usr/local/lib/python3.10/dist-packages (1.6.0)\n",
            "Requirement already satisfied: matplotlib in /usr/local/lib/python3.10/dist-packages (3.8.0)\n",
            "Requirement already satisfied: joblib in /usr/local/lib/python3.10/dist-packages (1.3.2)\n",
            "Requirement already satisfied: numpy>=1.19.5 in /usr/local/lib/python3.10/dist-packages (from scikit-learn) (1.24.4)\n",
            "Requirement already satisfied: scipy>=1.6.0 in /usr/local/lib/python3.10/dist-packages (from scikit-learn) (1.11.4)\n",
            "Requirement already satisfied: threadpoolctl>=3.1.0 in /usr/local/lib/python3.10/dist-packages (from scikit-learn) (3.5.0)\n",
            "Requirement already satisfied: contourpy>=1.0.1 in /usr/local/lib/python3.10/dist-packages (from matplotlib) (1.3.1)\n",
            "Requirement already satisfied: cycler>=0.10 in /usr/local/lib/python3.10/dist-packages (from matplotlib) (0.12.1)\n",
            "Requirement already satisfied: fonttools>=4.22.0 in /usr/local/lib/python3.10/dist-packages (from matplotlib) (4.55.3)\n",
            "Requirement already satisfied: kiwisolver>=1.0.1 in /usr/local/lib/python3.10/dist-packages (from matplotlib) (1.4.7)\n",
            "Requirement already satisfied: packaging>=20.0 in /usr/local/lib/python3.10/dist-packages (from matplotlib) (24.2)\n",
            "Requirement already satisfied: pillow>=6.2.0 in /usr/local/lib/python3.10/dist-packages (from matplotlib) (11.0.0)\n",
            "Requirement already satisfied: pyparsing>=2.3.1 in /usr/local/lib/python3.10/dist-packages (from matplotlib) (3.2.0)\n",
            "Requirement already satisfied: python-dateutil>=2.7 in /usr/local/lib/python3.10/dist-packages (from matplotlib) (2.9.0.post0)\n",
            "Requirement already satisfied: six>=1.5 in /usr/local/lib/python3.10/dist-packages (from python-dateutil>=2.7->matplotlib) (1.17.0)\n",
            "                   Mean Absolute Error  Mean Squared Error       R^2\n",
            "Linear Regression             0.048614            0.003392  0.251080\n",
            "Decision Tree                 0.073130            0.007750 -0.711252\n",
            "Random Forest                 0.050350            0.003619  0.200957\n",
            "Gradient Boosting             0.050126            0.003663  0.191116\n"
          ]
        },
        {
          "output_type": "execute_result",
          "data": {
            "text/plain": [
              "('/content/comparison_results_file', '/content/model')"
            ]
          },
          "metadata": {},
          "execution_count": 22
        }
      ],
      "source": [
        "!pip install scikit-learn matplotlib joblib\n",
        "import pandas as pd\n",
        "from sklearn.model_selection import train_test_split\n",
        "from sklearn.linear_model import LinearRegression\n",
        "from sklearn.tree import DecisionTreeRegressor\n",
        "from sklearn.ensemble import RandomForestRegressor, GradientBoostingRegressor\n",
        "from sklearn.metrics import mean_absolute_error, mean_squared_error, r2_score\n",
        "import matplotlib.pyplot as plt\n",
        "\n",
        "file_path = '/content/Fuel_cell_performance_data-Full.csv'\n",
        "data = pd.read_csv(file_path)\n",
        "\n",
        "target_column = 'Target1'\n",
        "target_data = data[target_column]\n",
        "features = data.drop(columns=['Target1', 'Target2', 'Target3', 'Target4', 'Target5'])\n",
        "\n",
        "final_data = features.copy()\n",
        "final_data['Target'] = target_data\n",
        "\n",
        "X = final_data.drop(columns=['Target'])\n",
        "y = final_data['Target']\n",
        "X_train, X_test, y_train, y_test = train_test_split(X, y, test_size=0.3, random_state=42)\n",
        "\n",
        "models = {\n",
        "    'Linear Regression': LinearRegression(),\n",
        "    'Decision Tree': DecisionTreeRegressor(random_state=42),\n",
        "    'Random Forest': RandomForestRegressor(random_state=42),\n",
        "    'Gradient Boosting': GradientBoostingRegressor(random_state=42)\n",
        "}\n",
        "\n",
        "results = {}\n",
        "\n",
        "for name, model in models.items():\n",
        "    model.fit(X_train, y_train)\n",
        "    y_pred = model.predict(X_test)\n",
        "\n",
        "    mae = mean_absolute_error(y_test, y_pred)\n",
        "    mse = mean_squared_error(y_test, y_pred)\n",
        "    r2 = r2_score(y_test, y_pred)\n",
        "\n",
        "    results[name] = {\n",
        "        'Mean Absolute Error': mae,\n",
        "        'Mean Squared Error': mse,\n",
        "        'R^2': r2\n",
        "    }\n",
        "\n",
        "results_df = pd.DataFrame(results).T\n",
        "print(results_df)\n",
        "\n",
        "comparison_results_file = '/content/comparison_results_file'\n",
        "fig, ax = plt.subplots(figsize=(12, 6))\n",
        "ax.axis('off')\n",
        "ax.axis('tight')\n",
        "ax.table(cellText=results_df.values, colLabels=results_df.columns, cellLoc='center', loc='center')\n",
        "plt.savefig(comparison_results_file, bbox_inches='tight', dpi=300)\n",
        "plt.close()\n",
        "\n",
        "best_model_name = results_df['R^2'].idxmax()\n",
        "best_model = models[best_model_name]\n",
        "save_model_file = '/content/model'\n",
        "import joblib\n",
        "joblib.dump(best_model, save_model_file)\n",
        "comparison_results_file, save_model_file\n"
      ]
    },
    {
      "cell_type": "code",
      "source": [],
      "metadata": {
        "id": "xwOQLZhConhe"
      },
      "execution_count": null,
      "outputs": []
    }
  ]
}